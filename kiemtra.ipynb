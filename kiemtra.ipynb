{
  "nbformat": 4,
  "nbformat_minor": 0,
  "metadata": {
    "colab": {
      "provenance": [],
      "authorship_tag": "ABX9TyNfS6TuIMs/ZiX73t6+eZqQ",
      "include_colab_link": true
    },
    "kernelspec": {
      "name": "python3",
      "display_name": "Python 3"
    },
    "language_info": {
      "name": "python"
    }
  },
  "cells": [
    {
      "cell_type": "markdown",
      "metadata": {
        "id": "view-in-github",
        "colab_type": "text"
      },
      "source": [
        "<a href=\"https://colab.research.google.com/github/Ngchihieu2003/timeseries/blob/main/kiemtra.ipynb\" target=\"_parent\"><img src=\"https://colab.research.google.com/assets/colab-badge.svg\" alt=\"Open In Colab\"/></a>"
      ]
    },
    {
      "cell_type": "code",
      "execution_count": 3,
      "metadata": {
        "colab": {
          "base_uri": "https://localhost:8080/"
        },
        "id": "hQ4sGRz_d11n",
        "outputId": "024e4183-7747-451e-951e-bb9ad73ec4c9"
      },
      "outputs": [
        {
          "output_type": "stream",
          "name": "stdout",
          "text": [
            "--- ADF Test for GDP ---\n",
            "ADF Statistic: 3.7738224736803865\n",
            "p-value: 1.0\n",
            "Critical Value (1%): -3.451552879535732\n",
            "Critical Value (5%): -2.8708786756338407\n",
            "Critical Value (10%): -2.571745666091128\n",
            "=> Chuỗi không dừng\n",
            "\n",
            "--- ADF Test for PCE ---\n",
            "ADF Statistic: 4.37344506208366\n",
            "p-value: 1.0\n",
            "Critical Value (1%): -3.451552879535732\n",
            "Critical Value (5%): -2.8708786756338407\n",
            "Critical Value (10%): -2.571745666091128\n",
            "=> Chuỗi không dừng\n",
            "\n",
            "--- Kiểm định Johansen ---\n",
            "Trace Statistic: [23.79561594  2.38543206]\n",
            "Critical Values:\n",
            "[[13.4294 15.4943 19.9349]\n",
            " [ 2.7055  3.8415  6.6349]]\n",
            "Det. terms outside the coint. relation & lagged endog. parameters for equation GDP\n",
            "==============================================================================\n",
            "                 coef    std err          z      P>|z|      [0.025      0.975]\n",
            "------------------------------------------------------------------------------\n",
            "L1.GDP        -0.1607      0.144     -1.115      0.265      -0.443       0.122\n",
            "L1.PCE         0.0173      0.199      0.087      0.931      -0.372       0.406\n",
            "Det. terms outside the coint. relation & lagged endog. parameters for equation PCE\n",
            "==============================================================================\n",
            "                 coef    std err          z      P>|z|      [0.025      0.975]\n",
            "------------------------------------------------------------------------------\n",
            "L1.GDP        -0.0804      0.104     -0.776      0.438      -0.284       0.123\n",
            "L1.PCE        -0.0607      0.143     -0.425      0.671      -0.341       0.219\n",
            "                Loading coefficients (alpha) for equation GDP                 \n",
            "==============================================================================\n",
            "                 coef    std err          z      P>|z|      [0.025      0.975]\n",
            "------------------------------------------------------------------------------\n",
            "ec1            0.0367      0.004      9.060      0.000       0.029       0.045\n",
            "                Loading coefficients (alpha) for equation PCE                 \n",
            "==============================================================================\n",
            "                 coef    std err          z      P>|z|      [0.025      0.975]\n",
            "------------------------------------------------------------------------------\n",
            "ec1            0.0272      0.003      9.338      0.000       0.021       0.033\n",
            "          Cointegration relations for loading-coefficients-column 1           \n",
            "==============================================================================\n",
            "                 coef    std err          z      P>|z|      [0.025      0.975]\n",
            "------------------------------------------------------------------------------\n",
            "beta.1         1.0000          0          0      0.000       1.000       1.000\n",
            "beta.2        -1.2146      0.031    -39.117      0.000      -1.275      -1.154\n",
            "==============================================================================\n"
          ]
        },
        {
          "output_type": "stream",
          "name": "stderr",
          "text": [
            "/usr/local/lib/python3.11/dist-packages/statsmodels/tsa/base/tsa_model.py:473: ValueWarning: No frequency information was provided, so inferred frequency QS-OCT will be used.\n",
            "  self._init_dates(dates, freq)\n"
          ]
        }
      ],
      "source": [
        "import pandas as pd\n",
        "import matplotlib.pyplot as plt\n",
        "from statsmodels.tsa.stattools import adfuller\n",
        "from statsmodels.tsa.vector_ar.vecm import coint_johansen, VECM\n",
        "\n",
        "# Bước 1: Đọc và hợp nhất dữ liệu\n",
        "gdp = pd.read_csv(\"GDPC1.csv\")\n",
        "pce = pd.read_csv(\"PCECC96.csv\")\n",
        "\n",
        "gdp = gdp.rename(columns={\"observation_date\": \"DATE\", \"GDPC1\": \"GDP\"})\n",
        "pce = pce.rename(columns={\"observation_date\": \"DATE\", \"PCECC96\": \"PCE\"})\n",
        "\n",
        "df = pd.merge(gdp, pce, on=\"DATE\")\n",
        "df[\"DATE\"] = pd.to_datetime(df[\"DATE\"])\n",
        "df = df.set_index(\"DATE\").dropna()\n",
        "\n",
        "# Bước 2: ADF Test\n",
        "def adf_test(series, name):\n",
        "    result = adfuller(series)\n",
        "    print(f\"--- ADF Test for {name} ---\")\n",
        "    print(f\"ADF Statistic: {result[0]}\")\n",
        "    print(f\"p-value: {result[1]}\")\n",
        "    for key, value in result[4].items():\n",
        "        print(f\"Critical Value ({key}): {value}\")\n",
        "    print(\"=> Chuỗi dừng\\n\" if result[1] <= 0.05 else \"=> Chuỗi không dừng\\n\")\n",
        "\n",
        "adf_test(df[\"GDP\"], \"GDP\")\n",
        "adf_test(df[\"PCE\"], \"PCE\")\n",
        "\n",
        "# Bước 3: Johansen Test\n",
        "print(\"--- Kiểm định Johansen ---\")\n",
        "johan_test = coint_johansen(df[[\"GDP\", \"PCE\"]], det_order=0, k_ar_diff=1)\n",
        "print(\"Trace Statistic:\", johan_test.lr1)\n",
        "print(\"Critical Values:\")\n",
        "print(johan_test.cvt)\n",
        "\n",
        "# Bước 4: VECM\n",
        "vecm_model = VECM(df[[\"GDP\", \"PCE\"]], k_ar_diff=1, coint_rank=1)\n",
        "vecm_result = vecm_model.fit()\n",
        "print(vecm_result.summary())\n"
      ]
    }
  ]
}